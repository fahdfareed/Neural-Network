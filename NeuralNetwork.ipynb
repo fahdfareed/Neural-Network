{
  "nbformat": 4,
  "nbformat_minor": 0,
  "metadata": {
    "colab": {
      "name": "NeuralNetwork.ipynb",
      "provenance": [],
      "collapsed_sections": [],
      "toc_visible": true,
      "include_colab_link": true
    },
    "kernelspec": {
      "name": "python3",
      "display_name": "Python 3"
    },
    "language_info": {
      "name": "python"
    },
    "widgets": {
      "application/vnd.jupyter.widget-state+json": {
        "2ee46bb813174ec69e1d642f17262543": {
          "model_module": "@jupyter-widgets/controls",
          "model_name": "HBoxModel",
          "model_module_version": "1.5.0",
          "state": {
            "_view_name": "HBoxView",
            "_dom_classes": [],
            "_model_name": "HBoxModel",
            "_view_module": "@jupyter-widgets/controls",
            "_model_module_version": "1.5.0",
            "_view_count": null,
            "_view_module_version": "1.5.0",
            "box_style": "",
            "layout": "IPY_MODEL_71492394d6ba4d048c663195d419b7fd",
            "_model_module": "@jupyter-widgets/controls",
            "children": [
              "IPY_MODEL_3e882525203c451d8d14fdf2ae85cd5f",
              "IPY_MODEL_cc02a74b2f0044d292f2d9c6956a25be",
              "IPY_MODEL_c98f9e35223948088465a5db9b2c2fc5"
            ]
          }
        },
        "71492394d6ba4d048c663195d419b7fd": {
          "model_module": "@jupyter-widgets/base",
          "model_name": "LayoutModel",
          "model_module_version": "1.2.0",
          "state": {
            "_view_name": "LayoutView",
            "grid_template_rows": null,
            "right": null,
            "justify_content": null,
            "_view_module": "@jupyter-widgets/base",
            "overflow": null,
            "_model_module_version": "1.2.0",
            "_view_count": null,
            "flex_flow": null,
            "width": null,
            "min_width": null,
            "border": null,
            "align_items": null,
            "bottom": null,
            "_model_module": "@jupyter-widgets/base",
            "top": null,
            "grid_column": null,
            "overflow_y": null,
            "overflow_x": null,
            "grid_auto_flow": null,
            "grid_area": null,
            "grid_template_columns": null,
            "flex": null,
            "_model_name": "LayoutModel",
            "justify_items": null,
            "grid_row": null,
            "max_height": null,
            "align_content": null,
            "visibility": null,
            "align_self": null,
            "height": null,
            "min_height": null,
            "padding": null,
            "grid_auto_rows": null,
            "grid_gap": null,
            "max_width": null,
            "order": null,
            "_view_module_version": "1.2.0",
            "grid_template_areas": null,
            "object_position": null,
            "object_fit": null,
            "grid_auto_columns": null,
            "margin": null,
            "display": null,
            "left": null
          }
        },
        "3e882525203c451d8d14fdf2ae85cd5f": {
          "model_module": "@jupyter-widgets/controls",
          "model_name": "HTMLModel",
          "model_module_version": "1.5.0",
          "state": {
            "_view_name": "HTMLView",
            "style": "IPY_MODEL_e3572477c2eb422ca1ae3ba0f394d97e",
            "_dom_classes": [],
            "description": "",
            "_model_name": "HTMLModel",
            "placeholder": "​",
            "_view_module": "@jupyter-widgets/controls",
            "_model_module_version": "1.5.0",
            "value": "100%",
            "_view_count": null,
            "_view_module_version": "1.5.0",
            "description_tooltip": null,
            "_model_module": "@jupyter-widgets/controls",
            "layout": "IPY_MODEL_a6fdf1985fa34d519cdb14a16c389ab3"
          }
        },
        "cc02a74b2f0044d292f2d9c6956a25be": {
          "model_module": "@jupyter-widgets/controls",
          "model_name": "FloatProgressModel",
          "model_module_version": "1.5.0",
          "state": {
            "_view_name": "ProgressView",
            "style": "IPY_MODEL_77c2d2e2fdfb449bb348c2e738a31197",
            "_dom_classes": [],
            "description": "",
            "_model_name": "FloatProgressModel",
            "bar_style": "success",
            "max": 20,
            "_view_module": "@jupyter-widgets/controls",
            "_model_module_version": "1.5.0",
            "value": 20,
            "_view_count": null,
            "_view_module_version": "1.5.0",
            "orientation": "horizontal",
            "min": 0,
            "description_tooltip": null,
            "_model_module": "@jupyter-widgets/controls",
            "layout": "IPY_MODEL_6e51e7a8599f4cbe904812474b4fbee0"
          }
        },
        "c98f9e35223948088465a5db9b2c2fc5": {
          "model_module": "@jupyter-widgets/controls",
          "model_name": "HTMLModel",
          "model_module_version": "1.5.0",
          "state": {
            "_view_name": "HTMLView",
            "style": "IPY_MODEL_58c593fcf7304ddebb788ed6256ff807",
            "_dom_classes": [],
            "description": "",
            "_model_name": "HTMLModel",
            "placeholder": "​",
            "_view_module": "@jupyter-widgets/controls",
            "_model_module_version": "1.5.0",
            "value": " 20/20 [07:40&lt;00:00, 23.05s/it]",
            "_view_count": null,
            "_view_module_version": "1.5.0",
            "description_tooltip": null,
            "_model_module": "@jupyter-widgets/controls",
            "layout": "IPY_MODEL_032ef5fd07984852b41ec8a1bbce5e51"
          }
        },
        "e3572477c2eb422ca1ae3ba0f394d97e": {
          "model_module": "@jupyter-widgets/controls",
          "model_name": "DescriptionStyleModel",
          "model_module_version": "1.5.0",
          "state": {
            "_view_name": "StyleView",
            "_model_name": "DescriptionStyleModel",
            "description_width": "",
            "_view_module": "@jupyter-widgets/base",
            "_model_module_version": "1.5.0",
            "_view_count": null,
            "_view_module_version": "1.2.0",
            "_model_module": "@jupyter-widgets/controls"
          }
        },
        "a6fdf1985fa34d519cdb14a16c389ab3": {
          "model_module": "@jupyter-widgets/base",
          "model_name": "LayoutModel",
          "model_module_version": "1.2.0",
          "state": {
            "_view_name": "LayoutView",
            "grid_template_rows": null,
            "right": null,
            "justify_content": null,
            "_view_module": "@jupyter-widgets/base",
            "overflow": null,
            "_model_module_version": "1.2.0",
            "_view_count": null,
            "flex_flow": null,
            "width": null,
            "min_width": null,
            "border": null,
            "align_items": null,
            "bottom": null,
            "_model_module": "@jupyter-widgets/base",
            "top": null,
            "grid_column": null,
            "overflow_y": null,
            "overflow_x": null,
            "grid_auto_flow": null,
            "grid_area": null,
            "grid_template_columns": null,
            "flex": null,
            "_model_name": "LayoutModel",
            "justify_items": null,
            "grid_row": null,
            "max_height": null,
            "align_content": null,
            "visibility": null,
            "align_self": null,
            "height": null,
            "min_height": null,
            "padding": null,
            "grid_auto_rows": null,
            "grid_gap": null,
            "max_width": null,
            "order": null,
            "_view_module_version": "1.2.0",
            "grid_template_areas": null,
            "object_position": null,
            "object_fit": null,
            "grid_auto_columns": null,
            "margin": null,
            "display": null,
            "left": null
          }
        },
        "77c2d2e2fdfb449bb348c2e738a31197": {
          "model_module": "@jupyter-widgets/controls",
          "model_name": "ProgressStyleModel",
          "model_module_version": "1.5.0",
          "state": {
            "_view_name": "StyleView",
            "_model_name": "ProgressStyleModel",
            "description_width": "",
            "_view_module": "@jupyter-widgets/base",
            "_model_module_version": "1.5.0",
            "_view_count": null,
            "_view_module_version": "1.2.0",
            "bar_color": null,
            "_model_module": "@jupyter-widgets/controls"
          }
        },
        "6e51e7a8599f4cbe904812474b4fbee0": {
          "model_module": "@jupyter-widgets/base",
          "model_name": "LayoutModel",
          "model_module_version": "1.2.0",
          "state": {
            "_view_name": "LayoutView",
            "grid_template_rows": null,
            "right": null,
            "justify_content": null,
            "_view_module": "@jupyter-widgets/base",
            "overflow": null,
            "_model_module_version": "1.2.0",
            "_view_count": null,
            "flex_flow": null,
            "width": null,
            "min_width": null,
            "border": null,
            "align_items": null,
            "bottom": null,
            "_model_module": "@jupyter-widgets/base",
            "top": null,
            "grid_column": null,
            "overflow_y": null,
            "overflow_x": null,
            "grid_auto_flow": null,
            "grid_area": null,
            "grid_template_columns": null,
            "flex": null,
            "_model_name": "LayoutModel",
            "justify_items": null,
            "grid_row": null,
            "max_height": null,
            "align_content": null,
            "visibility": null,
            "align_self": null,
            "height": null,
            "min_height": null,
            "padding": null,
            "grid_auto_rows": null,
            "grid_gap": null,
            "max_width": null,
            "order": null,
            "_view_module_version": "1.2.0",
            "grid_template_areas": null,
            "object_position": null,
            "object_fit": null,
            "grid_auto_columns": null,
            "margin": null,
            "display": null,
            "left": null
          }
        },
        "58c593fcf7304ddebb788ed6256ff807": {
          "model_module": "@jupyter-widgets/controls",
          "model_name": "DescriptionStyleModel",
          "model_module_version": "1.5.0",
          "state": {
            "_view_name": "StyleView",
            "_model_name": "DescriptionStyleModel",
            "description_width": "",
            "_view_module": "@jupyter-widgets/base",
            "_model_module_version": "1.5.0",
            "_view_count": null,
            "_view_module_version": "1.2.0",
            "_model_module": "@jupyter-widgets/controls"
          }
        },
        "032ef5fd07984852b41ec8a1bbce5e51": {
          "model_module": "@jupyter-widgets/base",
          "model_name": "LayoutModel",
          "model_module_version": "1.2.0",
          "state": {
            "_view_name": "LayoutView",
            "grid_template_rows": null,
            "right": null,
            "justify_content": null,
            "_view_module": "@jupyter-widgets/base",
            "overflow": null,
            "_model_module_version": "1.2.0",
            "_view_count": null,
            "flex_flow": null,
            "width": null,
            "min_width": null,
            "border": null,
            "align_items": null,
            "bottom": null,
            "_model_module": "@jupyter-widgets/base",
            "top": null,
            "grid_column": null,
            "overflow_y": null,
            "overflow_x": null,
            "grid_auto_flow": null,
            "grid_area": null,
            "grid_template_columns": null,
            "flex": null,
            "_model_name": "LayoutModel",
            "justify_items": null,
            "grid_row": null,
            "max_height": null,
            "align_content": null,
            "visibility": null,
            "align_self": null,
            "height": null,
            "min_height": null,
            "padding": null,
            "grid_auto_rows": null,
            "grid_gap": null,
            "max_width": null,
            "order": null,
            "_view_module_version": "1.2.0",
            "grid_template_areas": null,
            "object_position": null,
            "object_fit": null,
            "grid_auto_columns": null,
            "margin": null,
            "display": null,
            "left": null
          }
        },
        "9bb027014b9542c9be3ae4c0d2a79253": {
          "model_module": "@jupyter-widgets/controls",
          "model_name": "HBoxModel",
          "model_module_version": "1.5.0",
          "state": {
            "_view_name": "HBoxView",
            "_dom_classes": [],
            "_model_name": "HBoxModel",
            "_view_module": "@jupyter-widgets/controls",
            "_model_module_version": "1.5.0",
            "_view_count": null,
            "_view_module_version": "1.5.0",
            "box_style": "",
            "layout": "IPY_MODEL_6cc0f68b68224c9a88582248a4102f6b",
            "_model_module": "@jupyter-widgets/controls",
            "children": [
              "IPY_MODEL_9201758f04434fe4a727f6cfa520d8c1",
              "IPY_MODEL_f67d20e485f84fe181a025db707e598b",
              "IPY_MODEL_4cd95b81f4244785a212f6db843da66c"
            ]
          }
        },
        "6cc0f68b68224c9a88582248a4102f6b": {
          "model_module": "@jupyter-widgets/base",
          "model_name": "LayoutModel",
          "model_module_version": "1.2.0",
          "state": {
            "_view_name": "LayoutView",
            "grid_template_rows": null,
            "right": null,
            "justify_content": null,
            "_view_module": "@jupyter-widgets/base",
            "overflow": null,
            "_model_module_version": "1.2.0",
            "_view_count": null,
            "flex_flow": null,
            "width": null,
            "min_width": null,
            "border": null,
            "align_items": null,
            "bottom": null,
            "_model_module": "@jupyter-widgets/base",
            "top": null,
            "grid_column": null,
            "overflow_y": null,
            "overflow_x": null,
            "grid_auto_flow": null,
            "grid_area": null,
            "grid_template_columns": null,
            "flex": null,
            "_model_name": "LayoutModel",
            "justify_items": null,
            "grid_row": null,
            "max_height": null,
            "align_content": null,
            "visibility": null,
            "align_self": null,
            "height": null,
            "min_height": null,
            "padding": null,
            "grid_auto_rows": null,
            "grid_gap": null,
            "max_width": null,
            "order": null,
            "_view_module_version": "1.2.0",
            "grid_template_areas": null,
            "object_position": null,
            "object_fit": null,
            "grid_auto_columns": null,
            "margin": null,
            "display": null,
            "left": null
          }
        },
        "9201758f04434fe4a727f6cfa520d8c1": {
          "model_module": "@jupyter-widgets/controls",
          "model_name": "HTMLModel",
          "model_module_version": "1.5.0",
          "state": {
            "_view_name": "HTMLView",
            "style": "IPY_MODEL_50e45d8733db4234b81f021f327c46d4",
            "_dom_classes": [],
            "description": "",
            "_model_name": "HTMLModel",
            "placeholder": "​",
            "_view_module": "@jupyter-widgets/controls",
            "_model_module_version": "1.5.0",
            "value": "100%",
            "_view_count": null,
            "_view_module_version": "1.5.0",
            "description_tooltip": null,
            "_model_module": "@jupyter-widgets/controls",
            "layout": "IPY_MODEL_9c0161c86a244d419510420bd16e2a22"
          }
        },
        "f67d20e485f84fe181a025db707e598b": {
          "model_module": "@jupyter-widgets/controls",
          "model_name": "FloatProgressModel",
          "model_module_version": "1.5.0",
          "state": {
            "_view_name": "ProgressView",
            "style": "IPY_MODEL_9e6403dc2ff94757a2654bc8edac4cf9",
            "_dom_classes": [],
            "description": "",
            "_model_name": "FloatProgressModel",
            "bar_style": "success",
            "max": 20,
            "_view_module": "@jupyter-widgets/controls",
            "_model_module_version": "1.5.0",
            "value": 20,
            "_view_count": null,
            "_view_module_version": "1.5.0",
            "orientation": "horizontal",
            "min": 0,
            "description_tooltip": null,
            "_model_module": "@jupyter-widgets/controls",
            "layout": "IPY_MODEL_d47579f38b7b4eddbb600a81894ad042"
          }
        },
        "4cd95b81f4244785a212f6db843da66c": {
          "model_module": "@jupyter-widgets/controls",
          "model_name": "HTMLModel",
          "model_module_version": "1.5.0",
          "state": {
            "_view_name": "HTMLView",
            "style": "IPY_MODEL_8d4bf51e675b498f9a263dcaa8306bc5",
            "_dom_classes": [],
            "description": "",
            "_model_name": "HTMLModel",
            "placeholder": "​",
            "_view_module": "@jupyter-widgets/controls",
            "_model_module_version": "1.5.0",
            "value": " 20/20 [07:44&lt;00:00, 23.20s/it]",
            "_view_count": null,
            "_view_module_version": "1.5.0",
            "description_tooltip": null,
            "_model_module": "@jupyter-widgets/controls",
            "layout": "IPY_MODEL_786bb588feac4a5ca5061c80bc253bd2"
          }
        },
        "50e45d8733db4234b81f021f327c46d4": {
          "model_module": "@jupyter-widgets/controls",
          "model_name": "DescriptionStyleModel",
          "model_module_version": "1.5.0",
          "state": {
            "_view_name": "StyleView",
            "_model_name": "DescriptionStyleModel",
            "description_width": "",
            "_view_module": "@jupyter-widgets/base",
            "_model_module_version": "1.5.0",
            "_view_count": null,
            "_view_module_version": "1.2.0",
            "_model_module": "@jupyter-widgets/controls"
          }
        },
        "9c0161c86a244d419510420bd16e2a22": {
          "model_module": "@jupyter-widgets/base",
          "model_name": "LayoutModel",
          "model_module_version": "1.2.0",
          "state": {
            "_view_name": "LayoutView",
            "grid_template_rows": null,
            "right": null,
            "justify_content": null,
            "_view_module": "@jupyter-widgets/base",
            "overflow": null,
            "_model_module_version": "1.2.0",
            "_view_count": null,
            "flex_flow": null,
            "width": null,
            "min_width": null,
            "border": null,
            "align_items": null,
            "bottom": null,
            "_model_module": "@jupyter-widgets/base",
            "top": null,
            "grid_column": null,
            "overflow_y": null,
            "overflow_x": null,
            "grid_auto_flow": null,
            "grid_area": null,
            "grid_template_columns": null,
            "flex": null,
            "_model_name": "LayoutModel",
            "justify_items": null,
            "grid_row": null,
            "max_height": null,
            "align_content": null,
            "visibility": null,
            "align_self": null,
            "height": null,
            "min_height": null,
            "padding": null,
            "grid_auto_rows": null,
            "grid_gap": null,
            "max_width": null,
            "order": null,
            "_view_module_version": "1.2.0",
            "grid_template_areas": null,
            "object_position": null,
            "object_fit": null,
            "grid_auto_columns": null,
            "margin": null,
            "display": null,
            "left": null
          }
        },
        "9e6403dc2ff94757a2654bc8edac4cf9": {
          "model_module": "@jupyter-widgets/controls",
          "model_name": "ProgressStyleModel",
          "model_module_version": "1.5.0",
          "state": {
            "_view_name": "StyleView",
            "_model_name": "ProgressStyleModel",
            "description_width": "",
            "_view_module": "@jupyter-widgets/base",
            "_model_module_version": "1.5.0",
            "_view_count": null,
            "_view_module_version": "1.2.0",
            "bar_color": null,
            "_model_module": "@jupyter-widgets/controls"
          }
        },
        "d47579f38b7b4eddbb600a81894ad042": {
          "model_module": "@jupyter-widgets/base",
          "model_name": "LayoutModel",
          "model_module_version": "1.2.0",
          "state": {
            "_view_name": "LayoutView",
            "grid_template_rows": null,
            "right": null,
            "justify_content": null,
            "_view_module": "@jupyter-widgets/base",
            "overflow": null,
            "_model_module_version": "1.2.0",
            "_view_count": null,
            "flex_flow": null,
            "width": null,
            "min_width": null,
            "border": null,
            "align_items": null,
            "bottom": null,
            "_model_module": "@jupyter-widgets/base",
            "top": null,
            "grid_column": null,
            "overflow_y": null,
            "overflow_x": null,
            "grid_auto_flow": null,
            "grid_area": null,
            "grid_template_columns": null,
            "flex": null,
            "_model_name": "LayoutModel",
            "justify_items": null,
            "grid_row": null,
            "max_height": null,
            "align_content": null,
            "visibility": null,
            "align_self": null,
            "height": null,
            "min_height": null,
            "padding": null,
            "grid_auto_rows": null,
            "grid_gap": null,
            "max_width": null,
            "order": null,
            "_view_module_version": "1.2.0",
            "grid_template_areas": null,
            "object_position": null,
            "object_fit": null,
            "grid_auto_columns": null,
            "margin": null,
            "display": null,
            "left": null
          }
        },
        "8d4bf51e675b498f9a263dcaa8306bc5": {
          "model_module": "@jupyter-widgets/controls",
          "model_name": "DescriptionStyleModel",
          "model_module_version": "1.5.0",
          "state": {
            "_view_name": "StyleView",
            "_model_name": "DescriptionStyleModel",
            "description_width": "",
            "_view_module": "@jupyter-widgets/base",
            "_model_module_version": "1.5.0",
            "_view_count": null,
            "_view_module_version": "1.2.0",
            "_model_module": "@jupyter-widgets/controls"
          }
        },
        "786bb588feac4a5ca5061c80bc253bd2": {
          "model_module": "@jupyter-widgets/base",
          "model_name": "LayoutModel",
          "model_module_version": "1.2.0",
          "state": {
            "_view_name": "LayoutView",
            "grid_template_rows": null,
            "right": null,
            "justify_content": null,
            "_view_module": "@jupyter-widgets/base",
            "overflow": null,
            "_model_module_version": "1.2.0",
            "_view_count": null,
            "flex_flow": null,
            "width": null,
            "min_width": null,
            "border": null,
            "align_items": null,
            "bottom": null,
            "_model_module": "@jupyter-widgets/base",
            "top": null,
            "grid_column": null,
            "overflow_y": null,
            "overflow_x": null,
            "grid_auto_flow": null,
            "grid_area": null,
            "grid_template_columns": null,
            "flex": null,
            "_model_name": "LayoutModel",
            "justify_items": null,
            "grid_row": null,
            "max_height": null,
            "align_content": null,
            "visibility": null,
            "align_self": null,
            "height": null,
            "min_height": null,
            "padding": null,
            "grid_auto_rows": null,
            "grid_gap": null,
            "max_width": null,
            "order": null,
            "_view_module_version": "1.2.0",
            "grid_template_areas": null,
            "object_position": null,
            "object_fit": null,
            "grid_auto_columns": null,
            "margin": null,
            "display": null,
            "left": null
          }
        },
        "b29252bb94734b62970f86f30623f531": {
          "model_module": "@jupyter-widgets/controls",
          "model_name": "HBoxModel",
          "model_module_version": "1.5.0",
          "state": {
            "_view_name": "HBoxView",
            "_dom_classes": [],
            "_model_name": "HBoxModel",
            "_view_module": "@jupyter-widgets/controls",
            "_model_module_version": "1.5.0",
            "_view_count": null,
            "_view_module_version": "1.5.0",
            "box_style": "",
            "layout": "IPY_MODEL_0e98ac818df848ff8225cba41b705531",
            "_model_module": "@jupyter-widgets/controls",
            "children": [
              "IPY_MODEL_bc9d6cf783d34e508521d7c9378b3750",
              "IPY_MODEL_ad2f82315af645a7b9dc03d60102f75b",
              "IPY_MODEL_3a97a77162b94dcd9d0a4cdcfd02670f"
            ]
          }
        },
        "0e98ac818df848ff8225cba41b705531": {
          "model_module": "@jupyter-widgets/base",
          "model_name": "LayoutModel",
          "model_module_version": "1.2.0",
          "state": {
            "_view_name": "LayoutView",
            "grid_template_rows": null,
            "right": null,
            "justify_content": null,
            "_view_module": "@jupyter-widgets/base",
            "overflow": null,
            "_model_module_version": "1.2.0",
            "_view_count": null,
            "flex_flow": null,
            "width": null,
            "min_width": null,
            "border": null,
            "align_items": null,
            "bottom": null,
            "_model_module": "@jupyter-widgets/base",
            "top": null,
            "grid_column": null,
            "overflow_y": null,
            "overflow_x": null,
            "grid_auto_flow": null,
            "grid_area": null,
            "grid_template_columns": null,
            "flex": null,
            "_model_name": "LayoutModel",
            "justify_items": null,
            "grid_row": null,
            "max_height": null,
            "align_content": null,
            "visibility": null,
            "align_self": null,
            "height": null,
            "min_height": null,
            "padding": null,
            "grid_auto_rows": null,
            "grid_gap": null,
            "max_width": null,
            "order": null,
            "_view_module_version": "1.2.0",
            "grid_template_areas": null,
            "object_position": null,
            "object_fit": null,
            "grid_auto_columns": null,
            "margin": null,
            "display": null,
            "left": null
          }
        },
        "bc9d6cf783d34e508521d7c9378b3750": {
          "model_module": "@jupyter-widgets/controls",
          "model_name": "HTMLModel",
          "model_module_version": "1.5.0",
          "state": {
            "_view_name": "HTMLView",
            "style": "IPY_MODEL_eb2318650b484577b027aa237cded1f1",
            "_dom_classes": [],
            "description": "",
            "_model_name": "HTMLModel",
            "placeholder": "​",
            "_view_module": "@jupyter-widgets/controls",
            "_model_module_version": "1.5.0",
            "value": "100%",
            "_view_count": null,
            "_view_module_version": "1.5.0",
            "description_tooltip": null,
            "_model_module": "@jupyter-widgets/controls",
            "layout": "IPY_MODEL_8f9e3e04c1f747e39bfdea9172c299ec"
          }
        },
        "ad2f82315af645a7b9dc03d60102f75b": {
          "model_module": "@jupyter-widgets/controls",
          "model_name": "FloatProgressModel",
          "model_module_version": "1.5.0",
          "state": {
            "_view_name": "ProgressView",
            "style": "IPY_MODEL_422234b999474432a1204fde4fa40b28",
            "_dom_classes": [],
            "description": "",
            "_model_name": "FloatProgressModel",
            "bar_style": "success",
            "max": 20,
            "_view_module": "@jupyter-widgets/controls",
            "_model_module_version": "1.5.0",
            "value": 20,
            "_view_count": null,
            "_view_module_version": "1.5.0",
            "orientation": "horizontal",
            "min": 0,
            "description_tooltip": null,
            "_model_module": "@jupyter-widgets/controls",
            "layout": "IPY_MODEL_cef4ea57ee294224a6de2ead3d7fdee3"
          }
        },
        "3a97a77162b94dcd9d0a4cdcfd02670f": {
          "model_module": "@jupyter-widgets/controls",
          "model_name": "HTMLModel",
          "model_module_version": "1.5.0",
          "state": {
            "_view_name": "HTMLView",
            "style": "IPY_MODEL_2454d75b600a40529d778e92a061b80f",
            "_dom_classes": [],
            "description": "",
            "_model_name": "HTMLModel",
            "placeholder": "​",
            "_view_module": "@jupyter-widgets/controls",
            "_model_module_version": "1.5.0",
            "value": " 20/20 [07:48&lt;00:00, 23.50s/it]",
            "_view_count": null,
            "_view_module_version": "1.5.0",
            "description_tooltip": null,
            "_model_module": "@jupyter-widgets/controls",
            "layout": "IPY_MODEL_d0047b90c09e4fcebfa66ec9afaaf005"
          }
        },
        "eb2318650b484577b027aa237cded1f1": {
          "model_module": "@jupyter-widgets/controls",
          "model_name": "DescriptionStyleModel",
          "model_module_version": "1.5.0",
          "state": {
            "_view_name": "StyleView",
            "_model_name": "DescriptionStyleModel",
            "description_width": "",
            "_view_module": "@jupyter-widgets/base",
            "_model_module_version": "1.5.0",
            "_view_count": null,
            "_view_module_version": "1.2.0",
            "_model_module": "@jupyter-widgets/controls"
          }
        },
        "8f9e3e04c1f747e39bfdea9172c299ec": {
          "model_module": "@jupyter-widgets/base",
          "model_name": "LayoutModel",
          "model_module_version": "1.2.0",
          "state": {
            "_view_name": "LayoutView",
            "grid_template_rows": null,
            "right": null,
            "justify_content": null,
            "_view_module": "@jupyter-widgets/base",
            "overflow": null,
            "_model_module_version": "1.2.0",
            "_view_count": null,
            "flex_flow": null,
            "width": null,
            "min_width": null,
            "border": null,
            "align_items": null,
            "bottom": null,
            "_model_module": "@jupyter-widgets/base",
            "top": null,
            "grid_column": null,
            "overflow_y": null,
            "overflow_x": null,
            "grid_auto_flow": null,
            "grid_area": null,
            "grid_template_columns": null,
            "flex": null,
            "_model_name": "LayoutModel",
            "justify_items": null,
            "grid_row": null,
            "max_height": null,
            "align_content": null,
            "visibility": null,
            "align_self": null,
            "height": null,
            "min_height": null,
            "padding": null,
            "grid_auto_rows": null,
            "grid_gap": null,
            "max_width": null,
            "order": null,
            "_view_module_version": "1.2.0",
            "grid_template_areas": null,
            "object_position": null,
            "object_fit": null,
            "grid_auto_columns": null,
            "margin": null,
            "display": null,
            "left": null
          }
        },
        "422234b999474432a1204fde4fa40b28": {
          "model_module": "@jupyter-widgets/controls",
          "model_name": "ProgressStyleModel",
          "model_module_version": "1.5.0",
          "state": {
            "_view_name": "StyleView",
            "_model_name": "ProgressStyleModel",
            "description_width": "",
            "_view_module": "@jupyter-widgets/base",
            "_model_module_version": "1.5.0",
            "_view_count": null,
            "_view_module_version": "1.2.0",
            "bar_color": null,
            "_model_module": "@jupyter-widgets/controls"
          }
        },
        "cef4ea57ee294224a6de2ead3d7fdee3": {
          "model_module": "@jupyter-widgets/base",
          "model_name": "LayoutModel",
          "model_module_version": "1.2.0",
          "state": {
            "_view_name": "LayoutView",
            "grid_template_rows": null,
            "right": null,
            "justify_content": null,
            "_view_module": "@jupyter-widgets/base",
            "overflow": null,
            "_model_module_version": "1.2.0",
            "_view_count": null,
            "flex_flow": null,
            "width": null,
            "min_width": null,
            "border": null,
            "align_items": null,
            "bottom": null,
            "_model_module": "@jupyter-widgets/base",
            "top": null,
            "grid_column": null,
            "overflow_y": null,
            "overflow_x": null,
            "grid_auto_flow": null,
            "grid_area": null,
            "grid_template_columns": null,
            "flex": null,
            "_model_name": "LayoutModel",
            "justify_items": null,
            "grid_row": null,
            "max_height": null,
            "align_content": null,
            "visibility": null,
            "align_self": null,
            "height": null,
            "min_height": null,
            "padding": null,
            "grid_auto_rows": null,
            "grid_gap": null,
            "max_width": null,
            "order": null,
            "_view_module_version": "1.2.0",
            "grid_template_areas": null,
            "object_position": null,
            "object_fit": null,
            "grid_auto_columns": null,
            "margin": null,
            "display": null,
            "left": null
          }
        },
        "2454d75b600a40529d778e92a061b80f": {
          "model_module": "@jupyter-widgets/controls",
          "model_name": "DescriptionStyleModel",
          "model_module_version": "1.5.0",
          "state": {
            "_view_name": "StyleView",
            "_model_name": "DescriptionStyleModel",
            "description_width": "",
            "_view_module": "@jupyter-widgets/base",
            "_model_module_version": "1.5.0",
            "_view_count": null,
            "_view_module_version": "1.2.0",
            "_model_module": "@jupyter-widgets/controls"
          }
        },
        "d0047b90c09e4fcebfa66ec9afaaf005": {
          "model_module": "@jupyter-widgets/base",
          "model_name": "LayoutModel",
          "model_module_version": "1.2.0",
          "state": {
            "_view_name": "LayoutView",
            "grid_template_rows": null,
            "right": null,
            "justify_content": null,
            "_view_module": "@jupyter-widgets/base",
            "overflow": null,
            "_model_module_version": "1.2.0",
            "_view_count": null,
            "flex_flow": null,
            "width": null,
            "min_width": null,
            "border": null,
            "align_items": null,
            "bottom": null,
            "_model_module": "@jupyter-widgets/base",
            "top": null,
            "grid_column": null,
            "overflow_y": null,
            "overflow_x": null,
            "grid_auto_flow": null,
            "grid_area": null,
            "grid_template_columns": null,
            "flex": null,
            "_model_name": "LayoutModel",
            "justify_items": null,
            "grid_row": null,
            "max_height": null,
            "align_content": null,
            "visibility": null,
            "align_self": null,
            "height": null,
            "min_height": null,
            "padding": null,
            "grid_auto_rows": null,
            "grid_gap": null,
            "max_width": null,
            "order": null,
            "_view_module_version": "1.2.0",
            "grid_template_areas": null,
            "object_position": null,
            "object_fit": null,
            "grid_auto_columns": null,
            "margin": null,
            "display": null,
            "left": null
          }
        },
        "6137b34af89d4c849802401a47a8fc42": {
          "model_module": "@jupyter-widgets/controls",
          "model_name": "HBoxModel",
          "model_module_version": "1.5.0",
          "state": {
            "_view_name": "HBoxView",
            "_dom_classes": [],
            "_model_name": "HBoxModel",
            "_view_module": "@jupyter-widgets/controls",
            "_model_module_version": "1.5.0",
            "_view_count": null,
            "_view_module_version": "1.5.0",
            "box_style": "",
            "layout": "IPY_MODEL_056e895263154d69b14c23d1f516e08b",
            "_model_module": "@jupyter-widgets/controls",
            "children": [
              "IPY_MODEL_11f841c6bd6e44ec97e471457dd71d08",
              "IPY_MODEL_a913ee44f79948b0b8cee68bcc2c4d3d",
              "IPY_MODEL_2dd82d1dd49f49d8b1d47cc519dbdce8"
            ]
          }
        },
        "056e895263154d69b14c23d1f516e08b": {
          "model_module": "@jupyter-widgets/base",
          "model_name": "LayoutModel",
          "model_module_version": "1.2.0",
          "state": {
            "_view_name": "LayoutView",
            "grid_template_rows": null,
            "right": null,
            "justify_content": null,
            "_view_module": "@jupyter-widgets/base",
            "overflow": null,
            "_model_module_version": "1.2.0",
            "_view_count": null,
            "flex_flow": null,
            "width": null,
            "min_width": null,
            "border": null,
            "align_items": null,
            "bottom": null,
            "_model_module": "@jupyter-widgets/base",
            "top": null,
            "grid_column": null,
            "overflow_y": null,
            "overflow_x": null,
            "grid_auto_flow": null,
            "grid_area": null,
            "grid_template_columns": null,
            "flex": null,
            "_model_name": "LayoutModel",
            "justify_items": null,
            "grid_row": null,
            "max_height": null,
            "align_content": null,
            "visibility": null,
            "align_self": null,
            "height": null,
            "min_height": null,
            "padding": null,
            "grid_auto_rows": null,
            "grid_gap": null,
            "max_width": null,
            "order": null,
            "_view_module_version": "1.2.0",
            "grid_template_areas": null,
            "object_position": null,
            "object_fit": null,
            "grid_auto_columns": null,
            "margin": null,
            "display": null,
            "left": null
          }
        },
        "11f841c6bd6e44ec97e471457dd71d08": {
          "model_module": "@jupyter-widgets/controls",
          "model_name": "HTMLModel",
          "model_module_version": "1.5.0",
          "state": {
            "_view_name": "HTMLView",
            "style": "IPY_MODEL_2bdd396ac65947fd826ae5981fd59cc9",
            "_dom_classes": [],
            "description": "",
            "_model_name": "HTMLModel",
            "placeholder": "​",
            "_view_module": "@jupyter-widgets/controls",
            "_model_module_version": "1.5.0",
            "value": "100%",
            "_view_count": null,
            "_view_module_version": "1.5.0",
            "description_tooltip": null,
            "_model_module": "@jupyter-widgets/controls",
            "layout": "IPY_MODEL_2272e4cb40c448a8844e5b719f9b5789"
          }
        },
        "a913ee44f79948b0b8cee68bcc2c4d3d": {
          "model_module": "@jupyter-widgets/controls",
          "model_name": "FloatProgressModel",
          "model_module_version": "1.5.0",
          "state": {
            "_view_name": "ProgressView",
            "style": "IPY_MODEL_7014e6663cb74a4abf2fa88593ff1f1b",
            "_dom_classes": [],
            "description": "",
            "_model_name": "FloatProgressModel",
            "bar_style": "success",
            "max": 20,
            "_view_module": "@jupyter-widgets/controls",
            "_model_module_version": "1.5.0",
            "value": 20,
            "_view_count": null,
            "_view_module_version": "1.5.0",
            "orientation": "horizontal",
            "min": 0,
            "description_tooltip": null,
            "_model_module": "@jupyter-widgets/controls",
            "layout": "IPY_MODEL_20d5a99697a74069a1e17cec19893496"
          }
        },
        "2dd82d1dd49f49d8b1d47cc519dbdce8": {
          "model_module": "@jupyter-widgets/controls",
          "model_name": "HTMLModel",
          "model_module_version": "1.5.0",
          "state": {
            "_view_name": "HTMLView",
            "style": "IPY_MODEL_fb1e520ce4364a7ca42b0c4cde40f3ce",
            "_dom_classes": [],
            "description": "",
            "_model_name": "HTMLModel",
            "placeholder": "​",
            "_view_module": "@jupyter-widgets/controls",
            "_model_module_version": "1.5.0",
            "value": " 20/20 [07:51&lt;00:00, 23.61s/it]",
            "_view_count": null,
            "_view_module_version": "1.5.0",
            "description_tooltip": null,
            "_model_module": "@jupyter-widgets/controls",
            "layout": "IPY_MODEL_910afda10cf54e55822f8b41628f5fe3"
          }
        },
        "2bdd396ac65947fd826ae5981fd59cc9": {
          "model_module": "@jupyter-widgets/controls",
          "model_name": "DescriptionStyleModel",
          "model_module_version": "1.5.0",
          "state": {
            "_view_name": "StyleView",
            "_model_name": "DescriptionStyleModel",
            "description_width": "",
            "_view_module": "@jupyter-widgets/base",
            "_model_module_version": "1.5.0",
            "_view_count": null,
            "_view_module_version": "1.2.0",
            "_model_module": "@jupyter-widgets/controls"
          }
        },
        "2272e4cb40c448a8844e5b719f9b5789": {
          "model_module": "@jupyter-widgets/base",
          "model_name": "LayoutModel",
          "model_module_version": "1.2.0",
          "state": {
            "_view_name": "LayoutView",
            "grid_template_rows": null,
            "right": null,
            "justify_content": null,
            "_view_module": "@jupyter-widgets/base",
            "overflow": null,
            "_model_module_version": "1.2.0",
            "_view_count": null,
            "flex_flow": null,
            "width": null,
            "min_width": null,
            "border": null,
            "align_items": null,
            "bottom": null,
            "_model_module": "@jupyter-widgets/base",
            "top": null,
            "grid_column": null,
            "overflow_y": null,
            "overflow_x": null,
            "grid_auto_flow": null,
            "grid_area": null,
            "grid_template_columns": null,
            "flex": null,
            "_model_name": "LayoutModel",
            "justify_items": null,
            "grid_row": null,
            "max_height": null,
            "align_content": null,
            "visibility": null,
            "align_self": null,
            "height": null,
            "min_height": null,
            "padding": null,
            "grid_auto_rows": null,
            "grid_gap": null,
            "max_width": null,
            "order": null,
            "_view_module_version": "1.2.0",
            "grid_template_areas": null,
            "object_position": null,
            "object_fit": null,
            "grid_auto_columns": null,
            "margin": null,
            "display": null,
            "left": null
          }
        },
        "7014e6663cb74a4abf2fa88593ff1f1b": {
          "model_module": "@jupyter-widgets/controls",
          "model_name": "ProgressStyleModel",
          "model_module_version": "1.5.0",
          "state": {
            "_view_name": "StyleView",
            "_model_name": "ProgressStyleModel",
            "description_width": "",
            "_view_module": "@jupyter-widgets/base",
            "_model_module_version": "1.5.0",
            "_view_count": null,
            "_view_module_version": "1.2.0",
            "bar_color": null,
            "_model_module": "@jupyter-widgets/controls"
          }
        },
        "20d5a99697a74069a1e17cec19893496": {
          "model_module": "@jupyter-widgets/base",
          "model_name": "LayoutModel",
          "model_module_version": "1.2.0",
          "state": {
            "_view_name": "LayoutView",
            "grid_template_rows": null,
            "right": null,
            "justify_content": null,
            "_view_module": "@jupyter-widgets/base",
            "overflow": null,
            "_model_module_version": "1.2.0",
            "_view_count": null,
            "flex_flow": null,
            "width": null,
            "min_width": null,
            "border": null,
            "align_items": null,
            "bottom": null,
            "_model_module": "@jupyter-widgets/base",
            "top": null,
            "grid_column": null,
            "overflow_y": null,
            "overflow_x": null,
            "grid_auto_flow": null,
            "grid_area": null,
            "grid_template_columns": null,
            "flex": null,
            "_model_name": "LayoutModel",
            "justify_items": null,
            "grid_row": null,
            "max_height": null,
            "align_content": null,
            "visibility": null,
            "align_self": null,
            "height": null,
            "min_height": null,
            "padding": null,
            "grid_auto_rows": null,
            "grid_gap": null,
            "max_width": null,
            "order": null,
            "_view_module_version": "1.2.0",
            "grid_template_areas": null,
            "object_position": null,
            "object_fit": null,
            "grid_auto_columns": null,
            "margin": null,
            "display": null,
            "left": null
          }
        },
        "fb1e520ce4364a7ca42b0c4cde40f3ce": {
          "model_module": "@jupyter-widgets/controls",
          "model_name": "DescriptionStyleModel",
          "model_module_version": "1.5.0",
          "state": {
            "_view_name": "StyleView",
            "_model_name": "DescriptionStyleModel",
            "description_width": "",
            "_view_module": "@jupyter-widgets/base",
            "_model_module_version": "1.5.0",
            "_view_count": null,
            "_view_module_version": "1.2.0",
            "_model_module": "@jupyter-widgets/controls"
          }
        },
        "910afda10cf54e55822f8b41628f5fe3": {
          "model_module": "@jupyter-widgets/base",
          "model_name": "LayoutModel",
          "model_module_version": "1.2.0",
          "state": {
            "_view_name": "LayoutView",
            "grid_template_rows": null,
            "right": null,
            "justify_content": null,
            "_view_module": "@jupyter-widgets/base",
            "overflow": null,
            "_model_module_version": "1.2.0",
            "_view_count": null,
            "flex_flow": null,
            "width": null,
            "min_width": null,
            "border": null,
            "align_items": null,
            "bottom": null,
            "_model_module": "@jupyter-widgets/base",
            "top": null,
            "grid_column": null,
            "overflow_y": null,
            "overflow_x": null,
            "grid_auto_flow": null,
            "grid_area": null,
            "grid_template_columns": null,
            "flex": null,
            "_model_name": "LayoutModel",
            "justify_items": null,
            "grid_row": null,
            "max_height": null,
            "align_content": null,
            "visibility": null,
            "align_self": null,
            "height": null,
            "min_height": null,
            "padding": null,
            "grid_auto_rows": null,
            "grid_gap": null,
            "max_width": null,
            "order": null,
            "_view_module_version": "1.2.0",
            "grid_template_areas": null,
            "object_position": null,
            "object_fit": null,
            "grid_auto_columns": null,
            "margin": null,
            "display": null,
            "left": null
          }
        },
        "7c50df83949a46199ee2cf9ed460858e": {
          "model_module": "@jupyter-widgets/controls",
          "model_name": "HBoxModel",
          "model_module_version": "1.5.0",
          "state": {
            "_view_name": "HBoxView",
            "_dom_classes": [],
            "_model_name": "HBoxModel",
            "_view_module": "@jupyter-widgets/controls",
            "_model_module_version": "1.5.0",
            "_view_count": null,
            "_view_module_version": "1.5.0",
            "box_style": "",
            "layout": "IPY_MODEL_22bf7751d26e4f6c8054f011afe282c5",
            "_model_module": "@jupyter-widgets/controls",
            "children": [
              "IPY_MODEL_bdebf5b3200049d7a35fbb098b8ed31e",
              "IPY_MODEL_a26d2827dc6b4d87a8ac990225e2480d",
              "IPY_MODEL_8c3e31dce834470193502ff932bdf91f"
            ]
          }
        },
        "22bf7751d26e4f6c8054f011afe282c5": {
          "model_module": "@jupyter-widgets/base",
          "model_name": "LayoutModel",
          "model_module_version": "1.2.0",
          "state": {
            "_view_name": "LayoutView",
            "grid_template_rows": null,
            "right": null,
            "justify_content": null,
            "_view_module": "@jupyter-widgets/base",
            "overflow": null,
            "_model_module_version": "1.2.0",
            "_view_count": null,
            "flex_flow": null,
            "width": null,
            "min_width": null,
            "border": null,
            "align_items": null,
            "bottom": null,
            "_model_module": "@jupyter-widgets/base",
            "top": null,
            "grid_column": null,
            "overflow_y": null,
            "overflow_x": null,
            "grid_auto_flow": null,
            "grid_area": null,
            "grid_template_columns": null,
            "flex": null,
            "_model_name": "LayoutModel",
            "justify_items": null,
            "grid_row": null,
            "max_height": null,
            "align_content": null,
            "visibility": null,
            "align_self": null,
            "height": null,
            "min_height": null,
            "padding": null,
            "grid_auto_rows": null,
            "grid_gap": null,
            "max_width": null,
            "order": null,
            "_view_module_version": "1.2.0",
            "grid_template_areas": null,
            "object_position": null,
            "object_fit": null,
            "grid_auto_columns": null,
            "margin": null,
            "display": null,
            "left": null
          }
        },
        "bdebf5b3200049d7a35fbb098b8ed31e": {
          "model_module": "@jupyter-widgets/controls",
          "model_name": "HTMLModel",
          "model_module_version": "1.5.0",
          "state": {
            "_view_name": "HTMLView",
            "style": "IPY_MODEL_0d072008f7fa438ab8c3970bb62626d6",
            "_dom_classes": [],
            "description": "",
            "_model_name": "HTMLModel",
            "placeholder": "​",
            "_view_module": "@jupyter-widgets/controls",
            "_model_module_version": "1.5.0",
            "value": "100%",
            "_view_count": null,
            "_view_module_version": "1.5.0",
            "description_tooltip": null,
            "_model_module": "@jupyter-widgets/controls",
            "layout": "IPY_MODEL_16837d4d43774e5dbc5977e33f214fb5"
          }
        },
        "a26d2827dc6b4d87a8ac990225e2480d": {
          "model_module": "@jupyter-widgets/controls",
          "model_name": "FloatProgressModel",
          "model_module_version": "1.5.0",
          "state": {
            "_view_name": "ProgressView",
            "style": "IPY_MODEL_6041f75c99f1492293dfbe8719c3fc1f",
            "_dom_classes": [],
            "description": "",
            "_model_name": "FloatProgressModel",
            "bar_style": "success",
            "max": 50,
            "_view_module": "@jupyter-widgets/controls",
            "_model_module_version": "1.5.0",
            "value": 50,
            "_view_count": null,
            "_view_module_version": "1.5.0",
            "orientation": "horizontal",
            "min": 0,
            "description_tooltip": null,
            "_model_module": "@jupyter-widgets/controls",
            "layout": "IPY_MODEL_901030e504514faaab9f195a03547b83"
          }
        },
        "8c3e31dce834470193502ff932bdf91f": {
          "model_module": "@jupyter-widgets/controls",
          "model_name": "HTMLModel",
          "model_module_version": "1.5.0",
          "state": {
            "_view_name": "HTMLView",
            "style": "IPY_MODEL_6845b663844b46b9b4f22348e407368b",
            "_dom_classes": [],
            "description": "",
            "_model_name": "HTMLModel",
            "placeholder": "​",
            "_view_module": "@jupyter-widgets/controls",
            "_model_module_version": "1.5.0",
            "value": " 50/50 [19:37&lt;00:00, 23.41s/it]",
            "_view_count": null,
            "_view_module_version": "1.5.0",
            "description_tooltip": null,
            "_model_module": "@jupyter-widgets/controls",
            "layout": "IPY_MODEL_491bed97df964f0da98b899dc51a3f01"
          }
        },
        "0d072008f7fa438ab8c3970bb62626d6": {
          "model_module": "@jupyter-widgets/controls",
          "model_name": "DescriptionStyleModel",
          "model_module_version": "1.5.0",
          "state": {
            "_view_name": "StyleView",
            "_model_name": "DescriptionStyleModel",
            "description_width": "",
            "_view_module": "@jupyter-widgets/base",
            "_model_module_version": "1.5.0",
            "_view_count": null,
            "_view_module_version": "1.2.0",
            "_model_module": "@jupyter-widgets/controls"
          }
        },
        "16837d4d43774e5dbc5977e33f214fb5": {
          "model_module": "@jupyter-widgets/base",
          "model_name": "LayoutModel",
          "model_module_version": "1.2.0",
          "state": {
            "_view_name": "LayoutView",
            "grid_template_rows": null,
            "right": null,
            "justify_content": null,
            "_view_module": "@jupyter-widgets/base",
            "overflow": null,
            "_model_module_version": "1.2.0",
            "_view_count": null,
            "flex_flow": null,
            "width": null,
            "min_width": null,
            "border": null,
            "align_items": null,
            "bottom": null,
            "_model_module": "@jupyter-widgets/base",
            "top": null,
            "grid_column": null,
            "overflow_y": null,
            "overflow_x": null,
            "grid_auto_flow": null,
            "grid_area": null,
            "grid_template_columns": null,
            "flex": null,
            "_model_name": "LayoutModel",
            "justify_items": null,
            "grid_row": null,
            "max_height": null,
            "align_content": null,
            "visibility": null,
            "align_self": null,
            "height": null,
            "min_height": null,
            "padding": null,
            "grid_auto_rows": null,
            "grid_gap": null,
            "max_width": null,
            "order": null,
            "_view_module_version": "1.2.0",
            "grid_template_areas": null,
            "object_position": null,
            "object_fit": null,
            "grid_auto_columns": null,
            "margin": null,
            "display": null,
            "left": null
          }
        },
        "6041f75c99f1492293dfbe8719c3fc1f": {
          "model_module": "@jupyter-widgets/controls",
          "model_name": "ProgressStyleModel",
          "model_module_version": "1.5.0",
          "state": {
            "_view_name": "StyleView",
            "_model_name": "ProgressStyleModel",
            "description_width": "",
            "_view_module": "@jupyter-widgets/base",
            "_model_module_version": "1.5.0",
            "_view_count": null,
            "_view_module_version": "1.2.0",
            "bar_color": null,
            "_model_module": "@jupyter-widgets/controls"
          }
        },
        "901030e504514faaab9f195a03547b83": {
          "model_module": "@jupyter-widgets/base",
          "model_name": "LayoutModel",
          "model_module_version": "1.2.0",
          "state": {
            "_view_name": "LayoutView",
            "grid_template_rows": null,
            "right": null,
            "justify_content": null,
            "_view_module": "@jupyter-widgets/base",
            "overflow": null,
            "_model_module_version": "1.2.0",
            "_view_count": null,
            "flex_flow": null,
            "width": null,
            "min_width": null,
            "border": null,
            "align_items": null,
            "bottom": null,
            "_model_module": "@jupyter-widgets/base",
            "top": null,
            "grid_column": null,
            "overflow_y": null,
            "overflow_x": null,
            "grid_auto_flow": null,
            "grid_area": null,
            "grid_template_columns": null,
            "flex": null,
            "_model_name": "LayoutModel",
            "justify_items": null,
            "grid_row": null,
            "max_height": null,
            "align_content": null,
            "visibility": null,
            "align_self": null,
            "height": null,
            "min_height": null,
            "padding": null,
            "grid_auto_rows": null,
            "grid_gap": null,
            "max_width": null,
            "order": null,
            "_view_module_version": "1.2.0",
            "grid_template_areas": null,
            "object_position": null,
            "object_fit": null,
            "grid_auto_columns": null,
            "margin": null,
            "display": null,
            "left": null
          }
        },
        "6845b663844b46b9b4f22348e407368b": {
          "model_module": "@jupyter-widgets/controls",
          "model_name": "DescriptionStyleModel",
          "model_module_version": "1.5.0",
          "state": {
            "_view_name": "StyleView",
            "_model_name": "DescriptionStyleModel",
            "description_width": "",
            "_view_module": "@jupyter-widgets/base",
            "_model_module_version": "1.5.0",
            "_view_count": null,
            "_view_module_version": "1.2.0",
            "_model_module": "@jupyter-widgets/controls"
          }
        },
        "491bed97df964f0da98b899dc51a3f01": {
          "model_module": "@jupyter-widgets/base",
          "model_name": "LayoutModel",
          "model_module_version": "1.2.0",
          "state": {
            "_view_name": "LayoutView",
            "grid_template_rows": null,
            "right": null,
            "justify_content": null,
            "_view_module": "@jupyter-widgets/base",
            "overflow": null,
            "_model_module_version": "1.2.0",
            "_view_count": null,
            "flex_flow": null,
            "width": null,
            "min_width": null,
            "border": null,
            "align_items": null,
            "bottom": null,
            "_model_module": "@jupyter-widgets/base",
            "top": null,
            "grid_column": null,
            "overflow_y": null,
            "overflow_x": null,
            "grid_auto_flow": null,
            "grid_area": null,
            "grid_template_columns": null,
            "flex": null,
            "_model_name": "LayoutModel",
            "justify_items": null,
            "grid_row": null,
            "max_height": null,
            "align_content": null,
            "visibility": null,
            "align_self": null,
            "height": null,
            "min_height": null,
            "padding": null,
            "grid_auto_rows": null,
            "grid_gap": null,
            "max_width": null,
            "order": null,
            "_view_module_version": "1.2.0",
            "grid_template_areas": null,
            "object_position": null,
            "object_fit": null,
            "grid_auto_columns": null,
            "margin": null,
            "display": null,
            "left": null
          }
        }
      }
    },
    "accelerator": "GPU"
  },
  "cells": [
    {
      "cell_type": "markdown",
      "metadata": {
        "id": "view-in-github",
        "colab_type": "text"
      },
      "source": [
        "<a href=\"https://colab.research.google.com/github/fahdfareed/Neural-Network/blob/main/NeuralNetwork.ipynb\" target=\"_parent\"><img src=\"https://colab.research.google.com/assets/colab-badge.svg\" alt=\"Open In Colab\"/></a>"
      ]
    },
    {
      "cell_type": "code",
      "metadata": {
        "id": "COzQ5uMvtHAV"
      },
      "source": [
        "import numpy as np\n",
        "from tqdm.notebook import tqdm\n",
        "\n",
        "from matplotlib import pyplot as plt\n",
        "from sklearn.metrics import accuracy_score, confusion_matrix, f1_score\n",
        "\n",
        "\n",
        "from tensorflow.keras import Model\n",
        "from tensorflow.keras.optimizers import Adam\n",
        "from tensorflow.keras import layers\n",
        "from tensorflow.keras.utils import to_categorical\n",
        "from tensorflow.keras.layers import Dense, Conv2D, Dropout, BatchNormalization, Input, LeakyReLU, Flatten, Dropout, MaxPooling2D"
      ],
      "execution_count": 40,
      "outputs": []
    },
    {
      "cell_type": "markdown",
      "metadata": {
        "id": "6oFWPCthJyd_"
      },
      "source": [
        "# **Loading Dataset**"
      ]
    },
    {
      "cell_type": "markdown",
      "metadata": {
        "id": "WC6w0d51AnoW"
      },
      "source": [
        "You will be using MNIST handwritten digits to create a digit detection system. The dataset contain binary images of handwritten digits, and has has a training set of 60,000 examples, and a test set of 10,000 examples. The dataset can be loaded using the following commands:\n",
        "\n",
        "> from keras.datasets import mnist\n",
        "\n",
        "> (trainX, trainY), (testX, testY) = mnist.load_data()\n",
        "\n",
        "Starter code has already been provided to you. In the load_dataset() function, perform the following tasks:\n",
        "\n",
        "\n",
        "*   Normalize pixel values between 0 and 1\n",
        "*   One hot encode true labels using the [to_categorical()](https://www.tensorflow.org/api_docs/python/tf/keras/utils/to_categorical) function.\n",
        "\n"
      ]
    },
    {
      "cell_type": "code",
      "metadata": {
        "id": "XWkK9u4ew5a0"
      },
      "source": [
        "from keras.datasets import mnist\n",
        "def load_dataset():\n",
        "  # loading dataset\n",
        "  (train_X, train_Y), (test_X, test_Y) = mnist.load_data()\n",
        "  # processing images- normalizing\n",
        "  train_X = (train_X)/ float(255)\n",
        "  test_X = (test_X)/ float(255)\n",
        "\n",
        "  untest = test_Y\n",
        "\n",
        "  # processing labels- one hot encoding\n",
        "  train_Y = to_categorical(train_Y)\n",
        "  test_Y = to_categorical(test_Y)\n",
        "  return train_X, train_Y, test_X, test_Y, untest"
      ],
      "execution_count": 41,
      "outputs": []
    },
    {
      "cell_type": "code",
      "metadata": {
        "id": "gww_pHWrxRBl"
      },
      "source": [
        "train_X, train_Y, test_X, test_Y, untested = load_dataset()"
      ],
      "execution_count": 42,
      "outputs": []
    },
    {
      "cell_type": "markdown",
      "metadata": {
        "id": "WhUwRJfobq8p"
      },
      "source": [
        "# **Part 1**"
      ]
    },
    {
      "cell_type": "markdown",
      "metadata": {
        "id": "33MTc2ilKJa5"
      },
      "source": [
        "In the first part, you will be creating a neural network from scratch.  Often the code ishidden behind libraries.  The purpose of this task is to give you hand-on experience withthe mathematical foundations of neural network architectures.  After implementing this task, you will know exactly how forward and backward pass functions are implemented mathematically and in code. "
      ]
    },
    {
      "cell_type": "markdown",
      "metadata": {
        "id": "Pb5msiB5KYp6"
      },
      "source": [
        "Reshape the dataset to a 2D array using [NumPy reshape function](https://numpy.org/doc/stable/reference/generated/numpy.reshape.html)."
      ]
    },
    {
      "cell_type": "code",
      "metadata": {
        "id": "GRnqZXKoLBVQ",
        "colab": {
          "base_uri": "https://localhost:8080/"
        },
        "outputId": "2338119a-168c-4d9a-d217-61300387d5e0"
      },
      "source": [
        "# Reshaping the training data\n",
        "train_X = train_X.reshape((train_X.shape[0],train_X.shape[1]**2))\n",
        "test_X  = test_X.reshape((test_X.shape[0],test_X.shape[1]**2))\n",
        "\n",
        "print('Train: X=%s, Y=%s' % (train_X.shape, train_Y.shape)) #should print \"Train: X=(60000, 784), y=(60000,10)\"\n",
        "print('Test: X=%s, Y=%s' % (test_X.shape, test_Y.shape)) #should print \"Test: X=(10000, 784), y=(10000,10)\""
      ],
      "execution_count": 43,
      "outputs": [
        {
          "output_type": "stream",
          "name": "stdout",
          "text": [
            "Train: X=(60000, 784), Y=(60000, 10)\n",
            "Test: X=(10000, 784), Y=(10000, 10)\n"
          ]
        }
      ]
    },
    {
      "cell_type": "code",
      "metadata": {
        "id": "AbcZeacbd-TL"
      },
      "source": [
        "class NeuralNetwork():\n",
        "  \n",
        "  @staticmethod\n",
        "  def cross_entropy_loss(y_pred, y_true):\n",
        "    '''Used as a loss function'''\n",
        "    log = np.log(y_pred)\n",
        "    loss = -np.sum(log * y_true)\n",
        "    return loss\n",
        "\n",
        "  @staticmethod\n",
        "  def softmax(Z):\n",
        "    '''Used as the activation function in output layer'''\n",
        "    numerator = np.exp(Z)\n",
        "    output = numerator/numerator.sum(axis = 1, keepdims = True)\n",
        "    return output\n",
        "\n",
        "  @staticmethod\n",
        "  def sigmoid(Z):\n",
        "    '''Used as the activation function in every hidden layer'''\n",
        "    sig = 1.0/(1.0 + np.exp(-Z))\n",
        "    return sig\n",
        "\n",
        "\n",
        "  def __init__(self, list_of_nodes):\n",
        "    '''Constructor of our neural network class'''\n",
        "    \n",
        "    if len(list_of_nodes) < 2:\n",
        "        raise ValueError('Network must have atleast 2 layers (input and output).')\n",
        "    if not (np.array(list_of_nodes) > 0).all():\n",
        "        raise ValueError('Number of nodes in all layers must be positive.')\n",
        "    \n",
        "    self.total_layers = len(list_of_nodes) # total layers of your neural network\n",
        "    self.list_of_nodes = list_of_nodes     # list containing count of the number of nodes in every layer.\n",
        "    self.input_shape = list_of_nodes[0]    # number of nodes in input layer\n",
        "    self.output_shape = list_of_nodes[-1]  # number of nodes in output layer\n",
        "    self.__init_weights_and_biases(list_of_nodes) # initialize weights and biases\n",
        "\n",
        "    \n",
        "\n",
        "  def __init_weights_and_biases(self, list_of_nodes):\n",
        "    '''Initialize all weights based on normal standard distribution and all biases to 0'''\n",
        "\n",
        "    self.weights_ = []\n",
        "    self.biases_ = []\n",
        "    for i,_ in enumerate(list_of_nodes):\n",
        "        if i == 0:\n",
        "            #Input layer is skipped because it has no weights or biases\n",
        "            continue\n",
        "        \n",
        "        # weights are initialized based on random standard distribution\n",
        "        initial_weights = np.random.normal(size = (list_of_nodes[i-1], list_of_nodes[i]))\n",
        "        # biases are initialized as an array of zeros\n",
        "        initial_biases = np.zeros(shape = (list_of_nodes[i],))\n",
        "        \n",
        "        self.weights_.append(initial_weights)\n",
        "        self.biases_.append(initial_biases)\n",
        "\n",
        "  def forward_pass(self, input_data):\n",
        "    '''\n",
        "    Traverse the neural network and calculate the output of every layer.\n",
        "    The function should return a list containing outputs of every layer.\n",
        "    '''\n",
        "    layer_outputs = []\n",
        "    for i in range(0, self.total_layers -1): \n",
        "      weight = self.weights_[i]\n",
        "      bias = self.biases_[i]\n",
        "      \n",
        "      y = 0\n",
        "\n",
        "      #check if first layer\n",
        "      if (i == 0):\n",
        "        y = np.dot(input_data, weight)\n",
        "      else:\n",
        "        y = np.dot(layer_outputs[i -1], weight)\n",
        "\n",
        "      y += bias\n",
        "      # take softmax for the last layer else sigmoid\n",
        "      if i == self.total_layers -2:\n",
        "        layer_outputs.append(self.softmax(y))\n",
        "      else:\n",
        "        layer_outputs.append(self.sigmoid(y))\n",
        "    return layer_outputs\n",
        "\n",
        "  def backward_pass(self,y, layer_outputs):\n",
        "    '''\n",
        "    Traverse the neural network starting from the output layer. \n",
        "    and compute partial derivatives. \n",
        "    The function should return a list containing partial derivatives of every layer.\n",
        "    '''\n",
        "    derivatives = [] #array of derivatives\n",
        "    l= layer_outputs\n",
        "\n",
        "    # first derivative\n",
        "    final = l[-1] # final layer\n",
        "    phi = final -y \n",
        "    derivatives.append(phi)\n",
        "    \n",
        "    # rest of the derivatives\n",
        "    for i in range(self.total_layers -2, 0, -1):\n",
        "      phi = np.dot(self.weights_[i], derivatives[0].T).T\n",
        "      final = l[i -1]\n",
        "      der = np.multiply (final, 1 - final)\n",
        "      delta = np.multiply (phi, der)\n",
        "      derivatives.insert(0, delta)\n",
        "    return derivatives\n",
        "\n",
        "  def update(self, derivatives, layer_outputs,learning_rate):\n",
        "    '''Update weights and biases'''\n",
        "\n",
        "    for i in range(self.total_layers -2, -1, -1):\n",
        "      self.weights_[i]  -= learning_rate* (np.dot(derivatives[i].T, layer_outputs[i]).T) # update weight\n",
        "      self.biases_[i] -= learning_rate* np.sum(derivatives[i], axis =0) # update bias\n",
        "\n",
        "  def fit(self, X_train, Y_train, epochs, learning_rate):\n",
        "    ''' Call forward_pass(), backward_pass(), and the update() function'''\n",
        "\n",
        "    training_loss = []\n",
        "    validation_loss = []\n",
        "    training_accuracy = []\n",
        "    validation_accuracy = []\n",
        "    \n",
        "    # dividing training data into training set and validation set\n",
        "    X_train_set = X_train[6000:]\n",
        "    Y_train_set = Y_train[6000:]\n",
        "    X_valid_set = X_train[0:6000]\n",
        "    Y_valid_set = Y_train[0:6000]\n",
        "\n",
        "    for epoch in tqdm(range(epochs)):\n",
        "\n",
        "      # Stochastic gradient descent\n",
        "      num_samples = X_train_set.shape[0]\n",
        "      for i in range(num_samples):\n",
        "        \n",
        "        x = X_train_set[i,:].reshape((1,self.input_shape)) # features of the ith sample\n",
        "        y = Y_train_set[i,:].reshape((1,self.output_shape)) # true label of the ith sample\n",
        "        \n",
        "        layer_outputs = self.forward_pass(x) # forward pass\n",
        "        derivatives = self.backward_pass(y, layer_outputs) # compute derivatives\n",
        "\n",
        "        l = [x] + layer_outputs[:-1] \n",
        "        self.update(derivatives, l , learning_rate) # update weights and biases\n",
        "    \n",
        "      train_predict = self.predict(X_train_set) # predict training labels\n",
        "      validation_predict = self.predict(X_valid_set) # predict validation labels\n",
        "\n",
        "      training_loss.append(self.cross_entropy_loss(train_predict, Y_train_set)) # appending training loss\n",
        "      validation_loss.append(self.cross_entropy_loss(validation_predict, Y_valid_set)) # appending validation loss\n",
        "      training_accuracy.append(accuracy_score(np.argmax(Y_train_set,axis=1),np.argmax(train_predict,axis=1))) # appending training accuracy\n",
        "      validation_accuracy.append(accuracy_score(np.argmax(Y_valid_set,axis=1),np.argmax(validation_predict,axis=1))) # appending validation accuracy\n",
        "    \n",
        "    return training_loss, validation_loss, training_accuracy, validation_accuracy\n",
        "\n",
        "  def evaluate(self,Y_true,Y_pred, asal):\n",
        "    '''\n",
        "    Calculate classification accuracy, F1 score and confusion matrix\n",
        "    '''\n",
        "    accuracy = accuracy_score(Y_true, to_categorical(Y_pred)) # calculate accuracy\n",
        "    matrix = confusion_matrix(asal, Y_pred) # confusion matrix\n",
        "    f1 = f1_score(asal, (Y_pred), average = 'micro') # calculate f1\n",
        "    return accuracy, matrix, f1\n",
        "\n",
        "  def predict(self, X):\n",
        "    predicted_labels = []\n",
        "    for i in range(X.shape[0]):\n",
        "        x = X[i,:].reshape((1,self.input_shape))\n",
        "        y_pred = self.forward_pass(x)[-1] # predict labels\n",
        "        predicted_labels.append(y_pred.reshape((self.output_shape,)))\n",
        "    return np.array(predicted_labels)"
      ],
      "execution_count": 44,
      "outputs": []
    },
    {
      "cell_type": "markdown",
      "metadata": {
        "id": "b_0y75dlLIeF"
      },
      "source": [
        "Initialize your class. The class can have arbitrary number of hidden layers and nodes depending on the parameters passed. For example, the class instance declared as:\n",
        "\n",
        "\n",
        "> **nn = NeuralNetwork([784,20,20,10])**\n",
        "\n",
        "\n",
        "contains an input layer with 784 nodes, 2 hidden layer with 20 nodes each and an output layer with 10 nodes."
      ]
    },
    {
      "cell_type": "code",
      "metadata": {
        "id": "XJNn9ZP1fsYE"
      },
      "source": [
        "# initialize neural network\n",
        "nn = NeuralNetwork([784, 20, 20, 10])"
      ],
      "execution_count": 45,
      "outputs": []
    },
    {
      "cell_type": "markdown",
      "metadata": {
        "id": "c1LlOvBDM6Sv"
      },
      "source": [
        "Call the fit function to train your model."
      ]
    },
    {
      "cell_type": "code",
      "metadata": {
        "id": "7I2RfFZg52dv",
        "colab": {
          "base_uri": "https://localhost:8080/",
          "height": 526,
          "referenced_widgets": [
            "2ee46bb813174ec69e1d642f17262543",
            "71492394d6ba4d048c663195d419b7fd",
            "3e882525203c451d8d14fdf2ae85cd5f",
            "cc02a74b2f0044d292f2d9c6956a25be",
            "c98f9e35223948088465a5db9b2c2fc5",
            "e3572477c2eb422ca1ae3ba0f394d97e",
            "a6fdf1985fa34d519cdb14a16c389ab3",
            "77c2d2e2fdfb449bb348c2e738a31197",
            "6e51e7a8599f4cbe904812474b4fbee0",
            "58c593fcf7304ddebb788ed6256ff807",
            "032ef5fd07984852b41ec8a1bbce5e51",
            "9bb027014b9542c9be3ae4c0d2a79253",
            "6cc0f68b68224c9a88582248a4102f6b",
            "9201758f04434fe4a727f6cfa520d8c1",
            "f67d20e485f84fe181a025db707e598b",
            "4cd95b81f4244785a212f6db843da66c",
            "50e45d8733db4234b81f021f327c46d4",
            "9c0161c86a244d419510420bd16e2a22",
            "9e6403dc2ff94757a2654bc8edac4cf9",
            "d47579f38b7b4eddbb600a81894ad042",
            "8d4bf51e675b498f9a263dcaa8306bc5",
            "786bb588feac4a5ca5061c80bc253bd2",
            "b29252bb94734b62970f86f30623f531",
            "0e98ac818df848ff8225cba41b705531",
            "bc9d6cf783d34e508521d7c9378b3750",
            "ad2f82315af645a7b9dc03d60102f75b",
            "3a97a77162b94dcd9d0a4cdcfd02670f",
            "eb2318650b484577b027aa237cded1f1",
            "8f9e3e04c1f747e39bfdea9172c299ec",
            "422234b999474432a1204fde4fa40b28",
            "cef4ea57ee294224a6de2ead3d7fdee3",
            "2454d75b600a40529d778e92a061b80f",
            "d0047b90c09e4fcebfa66ec9afaaf005",
            "6137b34af89d4c849802401a47a8fc42",
            "056e895263154d69b14c23d1f516e08b",
            "11f841c6bd6e44ec97e471457dd71d08",
            "a913ee44f79948b0b8cee68bcc2c4d3d",
            "2dd82d1dd49f49d8b1d47cc519dbdce8",
            "2bdd396ac65947fd826ae5981fd59cc9",
            "2272e4cb40c448a8844e5b719f9b5789",
            "7014e6663cb74a4abf2fa88593ff1f1b",
            "20d5a99697a74069a1e17cec19893496",
            "fb1e520ce4364a7ca42b0c4cde40f3ce",
            "910afda10cf54e55822f8b41628f5fe3"
          ]
        },
        "outputId": "c4456beb-f248-4ddb-9f9c-dd57397ccdcf"
      },
      "source": [
        "# train the function on various values of lr to find the best one \n",
        "alpha = [0.005, 0.01, 0.05, 0.1]\n",
        "epochs = 20\n",
        "\n",
        "#plot 4 subplots with the fifferent values of alpha\n",
        "fig, axs = plt.subplots(4)\n",
        "for i, a in enumerate(alpha):\n",
        "  training_loss, validation_loss, training_accuracy, validation_accuracy = nn.fit(train_X, train_Y, epochs, a)\n",
        "\n",
        "  print(\"For \", a)\n",
        "  axs[i].plot(np.arange(1, epochs +1, 1), training_loss,   label=\"Train\")\n",
        "  axs[i].plot(np.arange(1, epochs +1, 1), validation_loss, label=\"Validation\")\n",
        "  plt.legend()\n",
        "  plt.xlabel(\"Epoch\")\n",
        "  plt.ylabel(\"Loss\")"
      ],
      "execution_count": 46,
      "outputs": [
        {
          "output_type": "display_data",
          "data": {
            "application/vnd.jupyter.widget-view+json": {
              "model_id": "2ee46bb813174ec69e1d642f17262543",
              "version_minor": 0,
              "version_major": 2
            },
            "text/plain": [
              "  0%|          | 0/20 [00:00<?, ?it/s]"
            ]
          },
          "metadata": {}
        },
        {
          "output_type": "stream",
          "name": "stderr",
          "text": [
            "No handles with labels found to put in legend.\n"
          ]
        },
        {
          "output_type": "stream",
          "name": "stdout",
          "text": [
            "For  0.005\n"
          ]
        },
        {
          "output_type": "display_data",
          "data": {
            "application/vnd.jupyter.widget-view+json": {
              "model_id": "9bb027014b9542c9be3ae4c0d2a79253",
              "version_minor": 0,
              "version_major": 2
            },
            "text/plain": [
              "  0%|          | 0/20 [00:00<?, ?it/s]"
            ]
          },
          "metadata": {}
        },
        {
          "output_type": "stream",
          "name": "stderr",
          "text": [
            "No handles with labels found to put in legend.\n"
          ]
        },
        {
          "output_type": "stream",
          "name": "stdout",
          "text": [
            "For  0.01\n"
          ]
        },
        {
          "output_type": "display_data",
          "data": {
            "application/vnd.jupyter.widget-view+json": {
              "model_id": "b29252bb94734b62970f86f30623f531",
              "version_minor": 0,
              "version_major": 2
            },
            "text/plain": [
              "  0%|          | 0/20 [00:00<?, ?it/s]"
            ]
          },
          "metadata": {}
        },
        {
          "output_type": "stream",
          "name": "stderr",
          "text": [
            "No handles with labels found to put in legend.\n"
          ]
        },
        {
          "output_type": "stream",
          "name": "stdout",
          "text": [
            "For  0.05\n"
          ]
        },
        {
          "output_type": "display_data",
          "data": {
            "application/vnd.jupyter.widget-view+json": {
              "model_id": "6137b34af89d4c849802401a47a8fc42",
              "version_minor": 0,
              "version_major": 2
            },
            "text/plain": [
              "  0%|          | 0/20 [00:00<?, ?it/s]"
            ]
          },
          "metadata": {}
        },
        {
          "output_type": "stream",
          "name": "stdout",
          "text": [
            "For  0.1\n"
          ]
        },
        {
          "output_type": "display_data",
          "data": {
            "image/png": "[encoded data removed]",
            "text/plain": [
              "<Figure size 432x288 with 4 Axes>"
            ]
          },
          "metadata": {
            "needs_background": "light"
          }
        }
      ]
    },
    {
      "cell_type": "code",
      "metadata": {
        "id": "fdwhYlOLuAXU",
        "colab": {
          "base_uri": "https://localhost:8080/",
          "height": 49,
          "referenced_widgets": [
            "7c50df83949a46199ee2cf9ed460858e",
            "22bf7751d26e4f6c8054f011afe282c5",
            "bdebf5b3200049d7a35fbb098b8ed31e",
            "a26d2827dc6b4d87a8ac990225e2480d",
            "8c3e31dce834470193502ff932bdf91f",
            "0d072008f7fa438ab8c3970bb62626d6",
            "16837d4d43774e5dbc5977e33f214fb5",
            "6041f75c99f1492293dfbe8719c3fc1f",
            "901030e504514faaab9f195a03547b83",
            "6845b663844b46b9b4f22348e407368b",
            "491bed97df964f0da98b899dc51a3f01"
          ]
        },
        "outputId": "ae74e7e8-fe11-4dad-b412-69813c6cddad"
      },
      "source": [
        "training_loss = None\n",
        "validation_loss = None\n",
        "training_accuracy = None\n",
        "validation_accuracy = None\n",
        "epochs = 50\n",
        "learning_rate = 0.005\n",
        "training_loss, validation_loss, training_accuracy, validation_accuracy = nn.fit(train_X, train_Y, epochs, learning_rate)"
      ],
      "execution_count": 47,
      "outputs": [
        {
          "output_type": "display_data",
          "data": {
            "application/vnd.jupyter.widget-view+json": {
              "model_id": "7c50df83949a46199ee2cf9ed460858e",
              "version_minor": 0,
              "version_major": 2
            },
            "text/plain": [
              "  0%|          | 0/50 [00:00<?, ?it/s]"
            ]
          },
          "metadata": {}
        }
      ]
    },
    {
      "cell_type": "markdown",
      "metadata": {
        "id": "eO6Rq4anNMiN"
      },
      "source": [
        "Plot graphs for different types of neural network architectures. Also experiment with different learning rates. No of epochs should be on the $x$-axis and training \\& validation loss on the $y$-axis."
      ]
    },
    {
      "cell_type": "code",
      "metadata": {
        "colab": {
          "base_uri": "https://localhost:8080/",
          "height": 296
        },
        "id": "pizf5df_JFNS",
        "outputId": "8296b202-1b84-4a69-b63e-2c33a170e6ed"
      },
      "source": [
        "# plot a graph to look at t\n",
        "plt.plot(np.arange(1,epochs +1, 1), training_loss, label= \"Train\")\n",
        "plt.plot(np.arange(1,epochs +1, 1), validation_loss, label= \"Validation\")\n",
        "plt.legend()\n",
        "plt.xlabel(\"Epoch\")\n",
        "plt.ylabel(\"Loss\")"
      ],
      "execution_count": 48,
      "outputs": [
        {
          "output_type": "execute_result",
          "data": {
            "text/plain": [
              "Text(0, 0.5, 'Loss')"
            ]
          },
          "metadata": {},
          "execution_count": 48
        },
        {
          "output_type": "display_data",
          "data": {
            "image/png": "[encoded data removed]",
            "text/plain": [
              "<Figure size 432x288 with 1 Axes>"
            ]
          },
          "metadata": {
            "needs_background": "light"
          }
        }
      ]
    },
    {
      "cell_type": "markdown",
      "metadata": {
        "id": "2ry1QbcPNZeX"
      },
      "source": [
        "Predict the labels of test data using the *predict() function*. Skeleton code for this function is already given to you. You may find [np.argmax](https://numpy.org/doc/stable/reference/generated/numpy.argmax.html) useful to extract labels."
      ]
    },
    {
      "cell_type": "code",
      "metadata": {
        "id": "w9ogxloMnPHn"
      },
      "source": [
        "predicted = nn.predict(test_X)\n",
        "y_pred = np.argmax(predicted, axis = 1) # predict the labels"
      ],
      "execution_count": 49,
      "outputs": []
    },
    {
      "cell_type": "markdown",
      "metadata": {
        "id": "E5hQjTR8OD__"
      },
      "source": [
        "Implement and call the evaluate function. Pass true labels and predicted labels of test data as parameters and report your results."
      ]
    },
    {
      "cell_type": "code",
      "metadata": {
        "id": "-gXaiu2HOVrX",
        "colab": {
          "base_uri": "https://localhost:8080/"
        },
        "outputId": "d30178e0-7b96-4744-dd5f-442542e9d548"
      },
      "source": [
        "accuracy, matrix, f1 = nn.evaluate( test_Y, y_pred, untested) #evaluation metrics\n",
        "print(\"Accuracy= \", accuracy)\n",
        "print(matrix)\n",
        "print(\"F1 score= \", f1)"
      ],
      "execution_count": 50,
      "outputs": [
        {
          "output_type": "stream",
          "name": "stdout",
          "text": [
            "Accuracy=  0.9471\n",
            "[[ 959    1    1    0    2    7    5    2    1    2]\n",
            " [   0 1118    3    3    1    3    3    1    3    0]\n",
            " [   6    8  977    8    2    4    6   12    9    0]\n",
            " [   0    3   17  923    0   39    1    9    8   10]\n",
            " [   2    0    7    1  930    1   12    3    3   23]\n",
            " [   6    4    6   23    0  823    8    0   12   10]\n",
            " [  15    3    4    1    6    8  916    0    5    0]\n",
            " [   5    7   15   10    7    0    0  974    2    8]\n",
            " [  10    0    6    9    7   12   16    4  903    7]\n",
            " [   5    4    2    6   24    6    0    8    6  948]]\n",
            "F1 score=  0.9471\n"
          ]
        }
      ]
    },
    {
      "cell_type": "markdown",
      "metadata": {
        "id": "79bVdqbQtEnL"
      },
      "source": [
        "# **Part 2**"
      ]
    },
    {
      "cell_type": "markdown",
      "metadata": {
        "id": "hbZId4vutN-i"
      },
      "source": [
        "In this part, you will get hands-on experience in using tensorflow libraries to implement a CNN for the same mnist dataset used in part 1. It will also give you an idea which model performs better. For this part it is recommended to use Google Colab and GPU for faster training."
      ]
    },
    {
      "cell_type": "markdown",
      "metadata": {
        "id": "6KLZnHeeQbmY"
      },
      "source": [
        "For this part, you will need to reshape both testX and trainX. We want the shape of trainX to be (60000,28,28,1) and the shape of testX to be (10000,28,28,1). Use np.reshape for this."
      ]
    },
    {
      "cell_type": "code",
      "metadata": {
        "id": "TtG8oJXtQ19-"
      },
      "source": [
        "#reshape here\n",
        "trainX, trainY, testX, testY, untest = load_dataset()\n",
        "trainX = trainX.reshape(trainX.shape[0], 28, 28, 1)\n",
        "testX = testX.reshape(testX.shape[0], 28, 28, 1)"
      ],
      "execution_count": 51,
      "outputs": []
    },
    {
      "cell_type": "code",
      "metadata": {
        "id": "RG6f_LFzQ4Ja",
        "colab": {
          "base_uri": "https://localhost:8080/"
        },
        "outputId": "a1b113cb-1503-4508-9816-d988cd165c8f"
      },
      "source": [
        "print('Train: X=%s, y=%s' % (trainX.shape, trainY.shape)) #should print \"Train: X=(60000,28,28,1), y=(60000,10)\"\n",
        "print('Test: X=%s, y=%s' % (testX.shape, testY.shape)) #should print \"Test: X=(10000,28,28,1), y=(10000,10)\""
      ],
      "execution_count": 52,
      "outputs": [
        {
          "output_type": "stream",
          "name": "stdout",
          "text": [
            "Train: X=(60000, 28, 28, 1), y=(60000, 10)\n",
            "Test: X=(10000, 28, 28, 1), y=(10000, 10)\n"
          ]
        }
      ]
    },
    {
      "cell_type": "code",
      "metadata": {
        "id": "hziIBePDwvQv"
      },
      "source": [
        "# Do not change this, it will be used in the end\n",
        "labels={}\n",
        "for i in range(10):\n",
        "  labels[str(i)] = i"
      ],
      "execution_count": 64,
      "outputs": []
    },
    {
      "cell_type": "code",
      "metadata": {
        "id": "pPCm6gMjwh9w"
      },
      "source": [
        "# Hyperparameters, you can change them accordingly to get higher accuracy on test dataset\n",
        "input_shape = (28,28,1)\n",
        "learning_rate = 0.1\n",
        "batch_size = 100\n",
        "epochs = 10"
      ],
      "execution_count": 65,
      "outputs": []
    },
    {
      "cell_type": "markdown",
      "metadata": {
        "id": "ebRbqVqzyAUj"
      },
      "source": [
        "# Training"
      ]
    },
    {
      "cell_type": "markdown",
      "metadata": {
        "id": "d3fSGo9T97Zf"
      },
      "source": [
        "Build model here. Use Functional API of tensorflow to this. You can have a look [here](https://www.tensorflow.org/guide/keras/functional) to understand how this works.\n",
        "Model architecture:\n",
        "*   See the image below for model architecture \n",
        "*   For convolutional layer, use kernel size as (3,3) and use relu as activation function\n",
        "*   For Max Pooling layer, use pool size = (2,2)\n",
        "*   Last Layer has softmax activation, the second last layer has relu activation\n",
        "*   Total number of parameters should be 542,230\n",
        "\n",
        "\n",
        "\n",
        "\n",
        "\n"
      ]
    },
    {
      "cell_type": "markdown",
      "metadata": {
        "id": "03b7dfT8_1UI"
      },
      "source": [
        "![model.png](data:image/png;base64,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)"
      ]
    },
    {
      "cell_type": "code",
      "metadata": {
        "id": "cuwe-hYIyGbB"
      },
      "source": [
        "from tensorflow import keras\n",
        "def define_model():\n",
        "  #use tensorflow layers to create model\n",
        "  input = Input(shape=input_shape)\n",
        "  model = keras.Sequential()\n",
        "  model.add(layers.Conv2D(32, (3, 3), activation='relu', input_shape= input_shape))\n",
        "  model.add(layers.MaxPooling2D((2, 2)))\n",
        "  model.add(layers.Flatten())\n",
        "  model.add(layers.Dense(100, activation='relu')) \n",
        "  model.add(layers.Dense(10, activation='softmax'))\n",
        "\n",
        "  return model"
      ],
      "execution_count": 66,
      "outputs": []
    },
    {
      "cell_type": "code",
      "metadata": {
        "id": "25Le8up6yqYK",
        "colab": {
          "base_uri": "https://localhost:8080/"
        },
        "outputId": "29c9dfd0-f135-41f7-a1fb-a30c07774b16"
      },
      "source": [
        "#create model here and print summary\n",
        "nn = define_model()\n",
        "nn.summary()"
      ],
      "execution_count": 67,
      "outputs": [
        {
          "output_type": "stream",
          "name": "stdout",
          "text": [
            "Model: \"sequential_1\"\n",
            "_________________________________________________________________\n",
            "Layer (type)                 Output Shape              Param #   \n",
            "=================================================================\n",
            "conv2d_1 (Conv2D)            (None, 26, 26, 32)        320       \n",
            "_________________________________________________________________\n",
            "max_pooling2d_1 (MaxPooling2 (None, 13, 13, 32)        0         \n",
            "_________________________________________________________________\n",
            "flatten_1 (Flatten)          (None, 5408)              0         \n",
            "_________________________________________________________________\n",
            "dense_2 (Dense)              (None, 100)               540900    \n",
            "_________________________________________________________________\n",
            "dense_3 (Dense)              (None, 10)                1010      \n",
            "=================================================================\n",
            "Total params: 542,230\n",
            "Trainable params: 542,230\n",
            "Non-trainable params: 0\n",
            "_________________________________________________________________\n"
          ]
        }
      ]
    },
    {
      "cell_type": "markdown",
      "metadata": {
        "id": "MS6R473GzYUH"
      },
      "source": [
        "Compile model here by using optimizer = Adam, loss = categorical_crossentropy and metrics = accuracy. Use model.compile() for this. See [this](https://www.tensorflow.org/api_docs/python/tf/keras/Model#compile) documentation. For seeing how to use optimizer, see [this](https://keras.io/api/optimizers/) link."
      ]
    },
    {
      "cell_type": "code",
      "metadata": {
        "id": "RY4p1h6ZzB3I"
      },
      "source": [
        "#compile model here\n",
        "opt = keras.optimizers.Adam(learning_rate=0.01)\n",
        "nn.compile(optimizer=opt, loss='categorical_crossentropy', metrics=['accuracy'])"
      ],
      "execution_count": 68,
      "outputs": []
    },
    {
      "cell_type": "markdown",
      "metadata": {
        "id": "PUVChCkN0bS4"
      },
      "source": [
        "Fit your model here. Use model.fit().  See [this](https://www.tensorflow.org/api_docs/python/tf/keras/Model#fit) documentation to understand model.fit(). Pass in argument steps_per_epoch = floor(Total_train_images/batch_size) "
      ]
    },
    {
      "cell_type": "code",
      "metadata": {
        "id": "F8-6F3Sf0UdT",
        "colab": {
          "base_uri": "https://localhost:8080/"
        },
        "outputId": "bc0dd0c7-e51b-4d2d-8d03-865be4324ed9"
      },
      "source": [
        "#fit your model here\n",
        "import math\n",
        "step = math.floor(trainX.shape[0] / batch_size)\n",
        "hist = nn.fit(trainX, trainY, validation_data = (testX, testY), epochs = epochs, steps_per_epoch = step)"
      ],
      "execution_count": 69,
      "outputs": [
        {
          "output_type": "stream",
          "name": "stdout",
          "text": [
            "Epoch 1/10\n",
            "600/600 [==============================] - 6s 9ms/step - loss: 0.1490 - accuracy: 0.9544 - val_loss: 0.0866 - val_accuracy: 0.9713\n",
            "Epoch 2/10\n",
            "600/600 [==============================] - 5s 8ms/step - loss: 0.0541 - accuracy: 0.9831 - val_loss: 0.0541 - val_accuracy: 0.9841\n",
            "Epoch 3/10\n",
            "600/600 [==============================] - 5s 9ms/step - loss: 0.0390 - accuracy: 0.9874 - val_loss: 0.0716 - val_accuracy: 0.9782\n",
            "Epoch 4/10\n",
            "600/600 [==============================] - 5s 8ms/step - loss: 0.0293 - accuracy: 0.9908 - val_loss: 0.0827 - val_accuracy: 0.9787\n",
            "Epoch 5/10\n",
            "600/600 [==============================] - 5s 8ms/step - loss: 0.0250 - accuracy: 0.9922 - val_loss: 0.0756 - val_accuracy: 0.9827\n",
            "Epoch 6/10\n",
            "600/600 [==============================] - 5s 8ms/step - loss: 0.0287 - accuracy: 0.9911 - val_loss: 0.1063 - val_accuracy: 0.9770\n",
            "Epoch 7/10\n",
            "600/600 [==============================] - 5s 9ms/step - loss: 0.0240 - accuracy: 0.9930 - val_loss: 0.1203 - val_accuracy: 0.9799\n",
            "Epoch 8/10\n",
            "600/600 [==============================] - 5s 8ms/step - loss: 0.0244 - accuracy: 0.9934 - val_loss: 0.0956 - val_accuracy: 0.9830\n",
            "Epoch 9/10\n",
            "600/600 [==============================] - 5s 8ms/step - loss: 0.0198 - accuracy: 0.9943 - val_loss: 0.1240 - val_accuracy: 0.9798\n",
            "Epoch 10/10\n",
            "600/600 [==============================] - 5s 8ms/step - loss: 0.0204 - accuracy: 0.9947 - val_loss: 0.0952 - val_accuracy: 0.9843\n"
          ]
        }
      ]
    },
    {
      "cell_type": "markdown",
      "metadata": {
        "id": "uKzP4XKl1MYR"
      },
      "source": [
        "Plot the loss and accuracy graphs of training. Use hist.history['loss'] and hist.history['accuracy'] where hist is returned by model.fit()"
      ]
    },
    {
      "cell_type": "code",
      "metadata": {
        "id": "91pLqzyZ0_tc",
        "colab": {
          "base_uri": "https://localhost:8080/",
          "height": 279
        },
        "outputId": "c3f48ddc-19d5-4ce8-8b72-d74736e5fbfa"
      },
      "source": [
        "#Plot Loss\n",
        "loss = hist.history['loss']\n",
        "plt.plot(np.arange(1, epochs + 1, 1), loss, label= \"Train\")\n",
        "plt.legend()\n",
        "plt.xlabel(\"Epoch\")\n",
        "plt.ylabel(\"Loss\")\n",
        "plt.show()\n"
      ],
      "execution_count": 70,
      "outputs": [
        {
          "output_type": "display_data",
          "data": {
            "image/png": "[encoded data removed]",
            "text/plain": [
              "<Figure size 432x288 with 1 Axes>"
            ]
          },
          "metadata": {
            "needs_background": "light"
          }
        }
      ]
    },
    {
      "cell_type": "code",
      "metadata": {
        "id": "cOrFwQZT1QaL",
        "colab": {
          "base_uri": "https://localhost:8080/",
          "height": 279
        },
        "outputId": "9aa120a3-36e3-40b6-e11a-c2b64c61aac7"
      },
      "source": [
        "#Plot Accuracy\n",
        "accuracy = hist.history['accuracy']\n",
        "plt.plot(np.arange(1, epochs + 1, 1), accuracy, label= \"Train\")\n",
        "plt.legend()\n",
        "plt.xlabel(\"Epoch\")\n",
        "plt.ylabel(\"Loss\")\n",
        "plt.show()"
      ],
      "execution_count": 71,
      "outputs": [
        {
          "output_type": "display_data",
          "data": {
            "image/png": "[encoded data removed]",
            "text/plain": [
              "<Figure size 432x288 with 1 Axes>"
            ]
          },
          "metadata": {
            "needs_background": "light"
          }
        }
      ]
    },
    {
      "cell_type": "markdown",
      "metadata": {
        "id": "qFgUav_U1V2L"
      },
      "source": [
        "# Testing"
      ]
    },
    {
      "cell_type": "markdown",
      "metadata": {
        "id": "K6hwmssY1v4F"
      },
      "source": [
        "Make predictions on Test Data. Use model.predict() for this"
      ]
    },
    {
      "cell_type": "code",
      "metadata": {
        "id": "JVog_kKL1YGu"
      },
      "source": [
        "# make predictions here\n",
        "y_pred = nn.predict(testX)"
      ],
      "execution_count": 72,
      "outputs": []
    },
    {
      "cell_type": "markdown",
      "metadata": {
        "id": "t_-K68lK2IPk"
      },
      "source": [
        "Extract class label from the predictions. You may find np.argmax() useful for this"
      ]
    },
    {
      "cell_type": "code",
      "metadata": {
        "id": "KfxSRRgW2Crh"
      },
      "source": [
        "# Extract class labels\n",
        "y_pred = (np.argmax(y_pred, axis = 1))"
      ],
      "execution_count": 73,
      "outputs": []
    },
    {
      "cell_type": "markdown",
      "metadata": {
        "id": "YGQEyMBV2Z1F"
      },
      "source": [
        "Calculate and print accuracy on test data."
      ]
    },
    {
      "cell_type": "code",
      "metadata": {
        "id": "jgTBV0PK2dQI",
        "colab": {
          "base_uri": "https://localhost:8080/"
        },
        "outputId": "ce7f1f26-b9cd-4e1d-eef7-29ed4cd0190e"
      },
      "source": [
        "# Accuracy Score\n",
        "accuracy_score(testY, to_categorical(y_pred))"
      ],
      "execution_count": 74,
      "outputs": [
        {
          "output_type": "execute_result",
          "data": {
            "text/plain": [
              "0.9843"
            ]
          },
          "metadata": {},
          "execution_count": 74
        }
      ]
    },
    {
      "cell_type": "markdown",
      "metadata": {
        "id": "wrPP47zT2mQ_"
      },
      "source": [
        "Plot the confusion matrix here using the sklearn library. Have a look [here](https://scikit-learn.org/stable/modules/generated/sklearn.metrics.confusion_matrix.html) for this."
      ]
    },
    {
      "cell_type": "code",
      "metadata": {
        "id": "2Sk9aV5_21Df"
      },
      "source": [
        "matrix = confusion_matrix(untest, y_pred)"
      ],
      "execution_count": 75,
      "outputs": []
    },
    {
      "cell_type": "code",
      "metadata": {
        "id": "_Ugaz79U258Z"
      },
      "source": [
        "import pandas as pd\n",
        "import seaborn as sns\n",
        "def plot_confusion_matrix(conf_mat):\n",
        "    classes = list(labels.keys())\n",
        "    df_cm = pd.DataFrame(conf_mat,classes,classes)\n",
        "    plt.figure(figsize=(10,7))\n",
        "    sns.set(font_scale=1.1)\n",
        "    sns.heatmap(df_cm, annot=True,annot_kws={\"size\": 10})\n",
        "    plt.show()"
      ],
      "execution_count": 76,
      "outputs": []
    },
    {
      "cell_type": "markdown",
      "metadata": {
        "id": "H34aR7fy2-_0"
      },
      "source": [
        "Use the above function for plotting confusion matrix."
      ]
    },
    {
      "cell_type": "code",
      "metadata": {
        "id": "ZfRJB8ep3Hjh",
        "colab": {
          "base_uri": "https://localhost:8080/",
          "height": 434
        },
        "outputId": "e9e234c4-9fd4-446b-efd9-c25d7a84aa0f"
      },
      "source": [
        "plot_confusion_matrix(matrix)"
      ],
      "execution_count": 77,
      "outputs": [
        {
          "output_type": "display_data",
          "data": {
            "image/png": "[encoded data removed]",
            "text/plain": [
              "<Figure size 720x504 with 2 Axes>"
            ]
          },
          "metadata": {
            "needs_background": "light"
          }
        }
      ]
    },
    {
      "cell_type": "code",
      "metadata": {
        "id": "ICIVABgabRmg"
      },
      "source": [
        ""
      ],
      "execution_count": null,
      "outputs": []
    }
  ]
}